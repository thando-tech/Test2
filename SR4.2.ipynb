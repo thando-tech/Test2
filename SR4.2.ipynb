{
 "cells": [
  {
   "cell_type": "code",
   "execution_count": 15,
   "id": "9602d278-2799-46b4-b057-78e7cef3e165",
   "metadata": {},
   "outputs": [],
   "source": [
    "import pandas as pd\n",
    "import numpy as np\n",
    "\n",
    "# Load the dataset\n",
    "file_path = r\"C:\\Users\\THANDOLWETHU\\Closed Ended Data.csv\"\n",
    "df = pd.read_csv(r\"C:\\Users\\THANDOLWETHU\\Closed Ended Data.csv\")\n",
    "\n",
    "# Select a column to search\n",
    "search_column = 'AVG_MON_SAL'  # This should be a numeric column\n"
   ]
  },
  {
   "cell_type": "code",
   "execution_count": 9,
   "id": "0b0cd5ec-8a44-44b4-8fa7-5b2002d5ea46",
   "metadata": {},
   "outputs": [
    {
     "name": "stdout",
     "output_type": "stream",
     "text": [
      "2       3500.0\n",
      "3       1000.0\n",
      "4        500.0\n",
      "5       1000.0\n",
      "6       1500.0\n",
      "         ...  \n",
      "4324       1.0\n",
      "4327       1.0\n",
      "4330      10.0\n",
      "4332       1.0\n",
      "4341       1.0\n",
      "Name: AVG_MON_SAL, Length: 163, dtype: float64\n"
     ]
    }
   ],
   "source": [
    "# Function to clean the data\n",
    "def clean_numeric_column(column):\n",
    "    cleaned_column = []\n",
    "    for value in column:\n",
    "        try:\n",
    "            # Try to convert directly to float\n",
    "            cleaned_value = float(value)\n",
    "        except ValueError:\n",
    "            # Handle special cases like '<500'\n",
    "            if isinstance(value, str) and '<' in value:\n",
    "                # For example, replace '<500' with 500 or some other logic\n",
    "                cleaned_value = float(value.replace('<', ''))\n",
    "            else:\n",
    "                # Replace other non-numeric values with NaN\n",
    "                cleaned_value = np.nan\n",
    "        cleaned_column.append(cleaned_value)\n",
    "    return cleaned_column\n",
    "\n",
    "# Clean the 'AVG_MON_SAL' column\n",
    "df['AVG_MON_SAL'] = clean_numeric_column(df['AVG_MON_SAL'])\n",
    "\n",
    "# Convert the cleaned column to numeric type\n",
    "df['AVG_MON_SAL'] = pd.to_numeric(df['AVG_MON_SAL'], errors='coerce')\n",
    "\n",
    "# Drop rows with NaN values if necessary\n",
    "df = df.dropna(subset=['AVG_MON_SAL'])\n",
    "\n",
    "# Check the cleaned data\n",
    "print(df['AVG_MON_SAL'])"
   ]
  },
  {
   "cell_type": "code",
   "execution_count": 16,
   "id": "68d3d791-4cd2-45b2-b235-56b1136a24b3",
   "metadata": {},
   "outputs": [],
   "source": [
    "# Function to perform linear search\n",
    "def linear_search(df, target):\n",
    "    for index, value in enumerate(data):\n",
    "        if value == target:\n",
    "            return index\n",
    "    return -1"
   ]
  },
  {
   "cell_type": "code",
   "execution_count": 11,
   "id": "35f070df-6883-4c77-9575-f94f1c47755b",
   "metadata": {},
   "outputs": [],
   "source": [
    "# Function to perform binary search\n",
    "def binary_search(df, target):\n",
    "    left, right = 0, len(df) - 1\n",
    "    while left <= right:\n",
    "        mid = left + (right - left) // 2\n",
    "        mid_value = df[mid]\n",
    "        if mid_value == target:\n",
    "            return mid\n",
    "        elif mid_value < target:\n",
    "            left = mid + 1\n",
    "        else:\n",
    "            right = mid - 1\n",
    "    return -1"
   ]
  },
  {
   "cell_type": "code",
   "execution_count": 12,
   "id": "4994c4ea-680b-4759-bb6b-6efae4b78fc4",
   "metadata": {},
   "outputs": [],
   "source": [
    "# Prepare the data for searching\n",
    "data = df[search_column].dropna().astype(float).tolist()  # Drop NaN values and convert to float\n",
    "\n",
    "target_value = 2500.0"
   ]
  },
  {
   "cell_type": "code",
   "execution_count": 13,
   "id": "9328d655-071e-47b4-ae18-75882734b99d",
   "metadata": {},
   "outputs": [
    {
     "name": "stdout",
     "output_type": "stream",
     "text": [
      "Linear Search: Found 2500.0 at index 12\n"
     ]
    }
   ],
   "source": [
    "# Linear search\n",
    "linear_result = linear_search(data, target_value)\n",
    "if linear_result != -1:\n",
    "    print(f\"Linear Search: Found {target_value} at index {linear_result}\")\n",
    "else:\n",
    "    print(f\"Linear Search: {target_value} not found\")"
   ]
  },
  {
   "cell_type": "code",
   "execution_count": 14,
   "id": "a2ad88df-3ab3-47d3-9e01-b278f06abb4b",
   "metadata": {},
   "outputs": [
    {
     "name": "stdout",
     "output_type": "stream",
     "text": [
      "Binary Search: Found 2500.0 at index 152 in sorted data\n"
     ]
    }
   ],
   "source": [
    "# Binary search \n",
    "sorted_data = sorted(data)\n",
    "binary_result = binary_search(sorted_data, target_value)\n",
    "if binary_result != -1:\n",
    "    print(f\"Binary Search: Found {target_value} at index {binary_result} in sorted data\")\n",
    "else:\n",
    "    print(f\"Binary Search: {target_value} not found in sorted data\")\n"
   ]
  },
  {
   "cell_type": "code",
   "execution_count": null,
   "id": "91f52097-9c8e-4ae2-b93d-34ad76c47842",
   "metadata": {},
   "outputs": [],
   "source": []
  }
 ],
 "metadata": {
  "kernelspec": {
   "display_name": "Python 3 (ipykernel)",
   "language": "python",
   "name": "python3"
  },
  "language_info": {
   "codemirror_mode": {
    "name": "ipython",
    "version": 3
   },
   "file_extension": ".py",
   "mimetype": "text/x-python",
   "name": "python",
   "nbconvert_exporter": "python",
   "pygments_lexer": "ipython3",
   "version": "3.11.7"
  }
 },
 "nbformat": 4,
 "nbformat_minor": 5
}
